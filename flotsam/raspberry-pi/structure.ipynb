{
 "metadata": {
  "name": "",
  "signature": "sha256:39007bbf8f0d04432818949599be1b0f39cb97e24b34eab72301b6c311369642"
 },
 "nbformat": 3,
 "nbformat_minor": 0,
 "worksheets": [
  {
   "cells": [
    {
     "cell_type": "code",
     "collapsed": false,
     "input": [
      "# test basic weave\n",
      "def weave(kernel,warp, weft):\n",
      "    ret = \"\"\n",
      "    for x in range(0, len(weft)):\n",
      "        for y in range(0, len(warp)):\n",
      "             ret+=kernel.stitch(x,y,warp[y],weft[x])\n",
      "        ret+=\"\\n\"\n",
      "    return ret\n",
      "\n",
      "k = kernel([0,1,1,1],2,2)\n",
      "\n",
      "print(weave(k,[\"a\",\"b\",\"c\",\"a\",\"b\",\"c\",\"a\",\"b\",\"c\"],\n",
      "            [\"A\",\"B\",\"C\",\"A\",\"B\",\"C\",\"A\",\"B\",\"C\"]))\n"
     ],
     "language": "python",
     "metadata": {},
     "outputs": [
      {
       "output_type": "stream",
       "stream": "stdout",
       "text": [
        "AbAaAcAbA\n",
        "abcabcabc\n",
        "CbCaCcCbC\n",
        "abcabcabc\n",
        "BbBaBcBbB\n",
        "abcabcabc\n",
        "AbAaAcAbA\n",
        "abcabcabc\n",
        "CbCaCcCbC\n",
        "\n"
       ]
      }
     ],
     "prompt_number": 6
    },
    {
     "cell_type": "code",
     "collapsed": false,
     "input": [
      "run_lsystem(\"C\",[[\"C\",\"AAAABBBBC\"]],6)"
     ],
     "language": "python",
     "metadata": {},
     "outputs": [
      {
       "ename": "NameError",
       "evalue": "name 'run_lsystem' is not defined",
       "output_type": "pyerr",
       "traceback": [
        "\u001b[1;31m---------------------------------------------------------------------------\u001b[0m\n\u001b[1;31mNameError\u001b[0m                                 Traceback (most recent call last)",
        "\u001b[1;32m<ipython-input-2-1cf00bf931a6>\u001b[0m in \u001b[0;36m<module>\u001b[1;34m()\u001b[0m\n\u001b[1;32m----> 1\u001b[1;33m \u001b[0mrun_lsystem\u001b[0m\u001b[1;33m(\u001b[0m\u001b[1;34m\"C\"\u001b[0m\u001b[1;33m,\u001b[0m\u001b[1;33m[\u001b[0m\u001b[1;33m[\u001b[0m\u001b[1;34m\"C\"\u001b[0m\u001b[1;33m,\u001b[0m\u001b[1;34m\"AAAABBBBC\"\u001b[0m\u001b[1;33m]\u001b[0m\u001b[1;33m]\u001b[0m\u001b[1;33m,\u001b[0m\u001b[1;36m6\u001b[0m\u001b[1;33m)\u001b[0m\u001b[1;33m\u001b[0m\u001b[0m\n\u001b[0m",
        "\u001b[1;31mNameError\u001b[0m: name 'run_lsystem' is not defined"
       ]
      }
     ],
     "prompt_number": 2
    },
    {
     "cell_type": "code",
     "collapsed": false,
     "input": [
      "# standard lsystem stuff\n",
      "def run_rule(str,rule):\n",
      "    ret = \"\"\n",
      "    for i in range(0,len(str)):\n",
      "        if str[i:i+len(rule[0])]==rule[0]:\n",
      "            ret+=rule[1]\n",
      "        else:\n",
      "            ret+=str[i]\n",
      "    return ret\n",
      "\n",
      "def explode_lsystem(str,rules,gen):\n",
      "    for g in range(0, gen):\n",
      "        for r in rules:\n",
      "            str = run_rule(str,r)\n",
      "    return str\n",
      "\n",
      "explode_lsystem(\"A\",[[\"A\", \"BB\"],[\"B\",\"AC\"],[\"AC\",\"B\"]],3)"
     ],
     "language": "python",
     "metadata": {},
     "outputs": [
      {
       "metadata": {},
       "output_type": "pyout",
       "prompt_number": 7,
       "text": [
        "'BCCCBCCC'"
       ]
      }
     ],
     "prompt_number": 7
    },
    {
     "cell_type": "code",
     "collapsed": false,
     "input": [],
     "language": "python",
     "metadata": {},
     "outputs": [],
     "prompt_number": 192
    },
    {
     "cell_type": "code",
     "collapsed": false,
     "input": [
      "# a weave structure kernel\n",
      "\n",
      "class kernel:\n",
      "    def __init__(self,structure,w,h):\n",
      "        self.structure = structure\n",
      "        self.width = w\n",
      "        self.height = h\n",
      "\n",
      "    # return warp or weft, dependant on the position\n",
      "    def stitch(self, x, y, warp, weft):\n",
      "        #if x % 2 == y % 2:\n",
      "        if self.structure[x%self.width+(y%self.height)*self.width]==1:\n",
      "            return warp \n",
      "        else: \n",
      "            return weft\n",
      "\n",
      "k = kernel([0,1,1,0],2,2)\n",
      "k.stitch(1,2,\"A\",\"B\")\n"
     ],
     "language": "python",
     "metadata": {},
     "outputs": [
      {
       "metadata": {},
       "output_type": "pyout",
       "prompt_number": 8,
       "text": [
        "'A'"
       ]
      }
     ],
     "prompt_number": 8
    },
    {
     "cell_type": "code",
     "collapsed": false,
     "input": [
      "\n",
      "\n",
      "import pygame\n",
      "pygame.init()\n",
      "screen = pygame.display.set_mode([640,480])\n",
      "\n",
      "thr_warp_thin = pygame.image.load(\"thr-warp-thin.png\")\n",
      "thr_warp_fat = pygame.image.load(\"thr-warp-fat.png\")\n",
      "thr_weft_thin = pygame.image.load(\"thr-weft-thin.png\")\n",
      "thr_weft_fat = pygame.image.load(\"thr-weft-fat.png\")\n",
      "rect = thr_warp_thin.get_rect()\n",
      "#rectv.left=20\n",
      "\n",
      "def conv_colour(c):\n",
      "    if c==\"A\": return [155,128,255]\n",
      "    if c==\"B\": return [155,200,255]\n",
      "    if c==\"C\": return [100,100,100]\n",
      "    return [255,255,255]\n",
      "\n",
      "def sprite_from_yarn(c,warp):\n",
      "    if warp:\n",
      "        if c==\"A\": return thr_warp_thin\n",
      "        if c==\"B\": return thr_warp_fat\n",
      "        return thr_warp_fat\n",
      "    else:\n",
      "        if c==\"A\": return thr_weft_thin\n",
      "        if c==\"B\": return thr_weft_fat\n",
      "        return thr_weft_fat  \n",
      "\n",
      "cell_spacing = 15\n",
      "\n",
      "def draw_weave(time,kernel,warp_colours,weft_colours,warp_yarn,weft_yarn):    \n",
      "    for y in range(0,len(weft_colours)):\n",
      "        rect.top=y*cell_spacing\n",
      "        for x in range(0,len(warp_colours)):\n",
      "            warp_over = kernel.stitch(x,y,True,False)\n",
      "            rect.left=x*cell_spacing\n",
      "            warp_sprite = sprite_from_yarn(warp_yarn[x%len(warp_yarn)],True)\n",
      "            weft_sprite = sprite_from_yarn(weft_yarn[y%len(weft_yarn)],False)\n",
      "            warp_sprite.set_palette_at(1,conv_colour(warp_colours[x]))\n",
      "            weft_sprite.set_palette_at(1,conv_colour(weft_colours[y]))\n",
      "      \n",
      "            # draw order depends on weave\n",
      "            if warp_over: \n",
      "                if time>y:\n",
      "                    screen.blit(weft_sprite, rect)\n",
      "                screen.blit(warp_sprite, rect)\n",
      "            else:\n",
      "                screen.blit(warp_sprite, rect)\n",
      "                if time>y:\n",
      "                    screen.blit(weft_sprite, rect)\n",
      "\n",
      "ls_boxes = [[\"A\", \"ABA\"],[\"B\",\"BA\"]]\n",
      "\n",
      "threads = explode_lsystem(\"A\",[[\"A\", \"ABC\"],[\"B\",\"ABC\"]],3)  \n",
      "\n",
      "frame = 0\n",
      "#k= kernel([1,0,0,0,1,0,1,0,\n",
      "#           0,1,0,0,0,1,0,1,\n",
      "#           0,0,1,0,1,0,1,1,\n",
      "#           0,0,0,1,0,1,1,0,\n",
      "#           1,0,1,0,1,1,1,0,\n",
      "#           0,1,0,1,1,1,0,1,\n",
      "#           1,0,1,0,1,0,1,1,\n",
      "#           0,1,0,1,0,1,1,1],8,8)\n",
      "\n",
      "k = kernel([1,0,0,1],2,2)\n",
      "\n",
      "               \n",
      "while 1:\n",
      "    screen.blit(thread, rect)\n",
      "\n",
      "    #draw_weave(frame*0.2,k,\n",
      "     #          explode_lsystem(\"Z\",[[\"Z\",\"AAAABBBBCCCCZ\"]],6),\n",
      "    #           explode_lsystem(\"Z\",[[\"Z\",\"AAAABBBBZ\"]],6),\n",
      "    ##           explode_lsystem(\"Z\",[[\"Z\",\"BABBBBBBAZ\"]],6),\n",
      "     #          explode_lsystem(\"Z\",[[\"Z\",\"BAAABBBBZ\"]],6))\n",
      "\n",
      "    draw_weave(frame*0.2,k,\n",
      "               explode_lsystem(\"AC\",[[\"AC\",\"ACBBBBC\"],[\"BC\",\"CABBBB\"]],3),\n",
      "               explode_lsystem(\"AC\",[[\"AC\",\"ACBC\"],[\"BC\",\"CCABBBB\"]],3),\n",
      "               \"AAAABBBB\",\n",
      "               \"BBBBAAAA\")\n",
      "               \n",
      "    pygame.display.flip()\n",
      "    frame += 1"
     ],
     "language": "python",
     "metadata": {},
     "outputs": [
      {
       "ename": "NameError",
       "evalue": "name 'thread' is not defined",
       "output_type": "pyerr",
       "traceback": [
        "\u001b[1;31m---------------------------------------------------------------------------\u001b[0m\n\u001b[1;31mNameError\u001b[0m                                 Traceback (most recent call last)",
        "\u001b[1;32m<ipython-input-10-e9afdf9b1275>\u001b[0m in \u001b[0;36m<module>\u001b[1;34m()\u001b[0m\n\u001b[0;32m     69\u001b[0m \u001b[1;33m\u001b[0m\u001b[0m\n\u001b[0;32m     70\u001b[0m \u001b[1;32mwhile\u001b[0m \u001b[1;36m1\u001b[0m\u001b[1;33m:\u001b[0m\u001b[1;33m\u001b[0m\u001b[0m\n\u001b[1;32m---> 71\u001b[1;33m     \u001b[0mscreen\u001b[0m\u001b[1;33m.\u001b[0m\u001b[0mblit\u001b[0m\u001b[1;33m(\u001b[0m\u001b[0mthread\u001b[0m\u001b[1;33m,\u001b[0m \u001b[0mrect\u001b[0m\u001b[1;33m)\u001b[0m\u001b[1;33m\u001b[0m\u001b[0m\n\u001b[0m\u001b[0;32m     72\u001b[0m \u001b[1;33m\u001b[0m\u001b[0m\n\u001b[0;32m     73\u001b[0m     \u001b[1;31m#draw_weave(frame*0.2,k,\u001b[0m\u001b[1;33m\u001b[0m\u001b[1;33m\u001b[0m\u001b[0m\n",
        "\u001b[1;31mNameError\u001b[0m: name 'thread' is not defined"
       ]
      }
     ],
     "prompt_number": 10
    },
    {
     "cell_type": "code",
     "collapsed": false,
     "input": [
      "# pygame testing\n",
      "import pygame\n",
      "pygame.init()\n",
      "screen = pygame.display.set_mode([640,480])\n",
      "\n",
      "thread = pygame.image.load(\"thread.png\")\n",
      "rect = thread.get_rect()\n",
      "threadv = pygame.image.load(\"threadv.png\")\n",
      "rectv = threadv.get_rect()\n",
      "#rectv.left=20\n",
      "\n",
      "# old school\n",
      "threadv.set_palette_at(1,[255,0,0])\n",
      "\n",
      "while 1:\n",
      "    screen.blit(thread, rect)\n",
      "    screen.blit(threadv, rectv)\n",
      "    pygame.display.flip()"
     ],
     "language": "python",
     "metadata": {},
     "outputs": [
      {
       "ename": "error",
       "evalue": "Couldn't open thread.png",
       "output_type": "pyerr",
       "traceback": [
        "\u001b[1;31m---------------------------------------------------------------------------\u001b[0m\n\u001b[1;31merror\u001b[0m                                     Traceback (most recent call last)",
        "\u001b[1;32m<ipython-input-4-d1b8aac06c14>\u001b[0m in \u001b[0;36m<module>\u001b[1;34m()\u001b[0m\n\u001b[0;32m      4\u001b[0m \u001b[0mscreen\u001b[0m \u001b[1;33m=\u001b[0m \u001b[0mpygame\u001b[0m\u001b[1;33m.\u001b[0m\u001b[0mdisplay\u001b[0m\u001b[1;33m.\u001b[0m\u001b[0mset_mode\u001b[0m\u001b[1;33m(\u001b[0m\u001b[1;33m[\u001b[0m\u001b[1;36m640\u001b[0m\u001b[1;33m,\u001b[0m\u001b[1;36m480\u001b[0m\u001b[1;33m]\u001b[0m\u001b[1;33m)\u001b[0m\u001b[1;33m\u001b[0m\u001b[0m\n\u001b[0;32m      5\u001b[0m \u001b[1;33m\u001b[0m\u001b[0m\n\u001b[1;32m----> 6\u001b[1;33m \u001b[0mthread\u001b[0m \u001b[1;33m=\u001b[0m \u001b[0mpygame\u001b[0m\u001b[1;33m.\u001b[0m\u001b[0mimage\u001b[0m\u001b[1;33m.\u001b[0m\u001b[0mload\u001b[0m\u001b[1;33m(\u001b[0m\u001b[1;34m\"thread.png\"\u001b[0m\u001b[1;33m)\u001b[0m\u001b[1;33m\u001b[0m\u001b[0m\n\u001b[0m\u001b[0;32m      7\u001b[0m \u001b[0mrect\u001b[0m \u001b[1;33m=\u001b[0m \u001b[0mthread\u001b[0m\u001b[1;33m.\u001b[0m\u001b[0mget_rect\u001b[0m\u001b[1;33m(\u001b[0m\u001b[1;33m)\u001b[0m\u001b[1;33m\u001b[0m\u001b[0m\n\u001b[0;32m      8\u001b[0m \u001b[0mthreadv\u001b[0m \u001b[1;33m=\u001b[0m \u001b[0mpygame\u001b[0m\u001b[1;33m.\u001b[0m\u001b[0mimage\u001b[0m\u001b[1;33m.\u001b[0m\u001b[0mload\u001b[0m\u001b[1;33m(\u001b[0m\u001b[1;34m\"threadv.png\"\u001b[0m\u001b[1;33m)\u001b[0m\u001b[1;33m\u001b[0m\u001b[0m\n",
        "\u001b[1;31merror\u001b[0m: Couldn't open thread.png"
       ]
      }
     ],
     "prompt_number": 4
    },
    {
     "cell_type": "code",
     "collapsed": false,
     "input": [],
     "language": "python",
     "metadata": {},
     "outputs": [],
     "prompt_number": 132
    },
    {
     "cell_type": "code",
     "collapsed": false,
     "input": [],
     "language": "python",
     "metadata": {},
     "outputs": []
    }
   ],
   "metadata": {}
  }
 ]
}